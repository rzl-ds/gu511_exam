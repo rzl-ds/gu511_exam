{
 "cells": [
  {
   "cell_type": "markdown",
   "metadata": {},
   "source": [
    "# GU511 MIDTERM EXAM (2020)\n",
    "\n",
    "## due by EOD 2020.10.16"
   ]
  },
  {
   "cell_type": "markdown",
   "metadata": {},
   "source": [
    "## goal"
   ]
  },
  {
   "cell_type": "markdown",
   "metadata": {},
   "source": [
    "in this midterm exam we will cover all the material covered in lectures so far in 2020, including:\n",
    "\n",
    "+ `aws` `ec2`\n",
    "+ `ssh`\n",
    "+ `linux`\n",
    "+ `git`\n",
    "+ `python`\n",
    "+ `conda`\n",
    "+ `docker`"
   ]
  },
  {
   "cell_type": "markdown",
   "metadata": {},
   "source": [
    "## method of delivery"
   ]
  },
  {
   "cell_type": "markdown",
   "metadata": {},
   "source": [
    "you will submit most of the results of your exam via an email titled **\"2020 midterm exam\"** sent to rzl5@georgetown.edu and ip221@georgetown.edu. you will also place one `sh` file on my `ec2` server (instructions in the body of exercise 1), as well as making several `commit`s to your hw repo\n",
    "\n",
    "summary:\n",
    "\n",
    "| exercise | deliverable | method of delivery | points |\n",
    "|----------|-------------|--------------------|--------|\n",
    "| 1 | a shell script named `dca_weather_download.sh` | put on my `ec2` server via `scp` or direct editing | 25 |\n",
    "| 2 | a modified version of `tacoworld.py` | attached to your submission email | 10 |\n",
    "| 3 | a modified version of `csv2pkl.py` | attached to your submission email | 15 |\n",
    "| 4 | a `python` function `why_would_i_do_this` in a file `argskwargs.py` | attached to your submission email | 15 |\n",
    "| 5 | a `conda` `environment.yml` file | attached to your submission email | 10 |\n",
    "| 6 | the copied output of `magic_numbers.py` | include as copy-pasted text in body of your submission email | 10 |\n",
    "| 7 | none | none | 5 |\n",
    "| 8 | a filled-in `Dockerfile` | attached to your submission email | 15|\n",
    "| 9 | a url of a `dockerhub` repository | include in the body of your submission email | 5 |\n",
    "| 10 | none | none | 5 |\n",
    "| 11 | a `git commit` with message `README: adding details on the usage and purpose of rzl.py` | `push`d to your `gu511_git_hw` `github` repo | 10 |\n",
    "| 12 | a `git commit` with message `gitignore: adding python ignorables` | `push`d to your `gu511_git_hw` `github` repo | 10 |\n",
    "\n",
    "total: 135"
   ]
  },
  {
   "cell_type": "markdown",
   "metadata": {},
   "source": [
    "# exercise 0: honor code\n",
    "\n",
    "while you are welcome to reference course notes, stack overflow, online documentation, and all the other resources of the world, there is one resource which you *CANNOT* use: your fellow classmates.\n",
    "\n",
    "you are expected to complete this exam **completely independently**. as this exam will be unsupervised, you are (as always) expected to abide by the guidelines laid out by [the honor council](https://honorcouncil.georgetown.edu/), and summarized in the student pledge:\n",
    "\n",
    "> In pursuit of the high ideals and rigorous standards of academic life I commit myself to respect and to uphold the Georgetown University honor system:\n",
    "> \n",
    "> To be honest in every academic endeavor, and\n",
    "> \n",
    "> To conduct myself honorably, as a responsible member of the Georgetown community as we live and work together."
   ]
  },
  {
   "cell_type": "markdown",
   "metadata": {},
   "source": [
    "# exercise 0: honor code <span style=\"color:red;font-weight:bold\">ANSWER</span>\n",
    "\n",
    "n/a"
   ]
  },
  {
   "cell_type": "markdown",
   "metadata": {},
   "source": [
    "<div style=\"border: 1px solid lightgrey;\">"
   ]
  },
  {
   "cell_type": "markdown",
   "metadata": {},
   "source": [
    "# exercise 1: modify the DCA weather download script and upload via `scp`\n",
    "\n",
    "on a previous homework assignment ([`hw04`](https://github.com/rzl-ds/gu511_hw/blob/master/hw04.ipynb)) we created `bash` scripts to download weather information at DCA airport. as a reminder from that exercise:\n",
    "\n",
    "> the FAA (Federal Aviation Administration) has created [a RESTful `xml` and `json` formatted endpoint](https://app.swaggerhub.com/apis/FAA/ASWS/1.2.0) for basic information about airports -- thanks, FFA! that page is a link to a \"swagger\" documentation page. it is a document which describes the various URLs you could access to get information. think of different URLs as functions; for some you add parameters, and the website will return results. this page is the documentation.\n",
    ">\n",
    "> the second endpoint of that API is for airport status codes, and lives at `https://soa.smext.faa.gov/asws/api/airport/status/{airportCode}`, where `airportCode` is a real airport code. you can test out this API endpoint using [the second big blue box with a `GET` button on the right hand side of the page](https://app.swaggerhub.com/apis/FAA/ASWS/1.2.0/#/FAA%20Airport%20Status%20Service/getAirportStatus) (the one followed by `/api/airport/status/{airportCode}`).\n",
    "\n",
    "the solution to that problem can be found [in the `hw03.answers` file](https://github.com/rzl-ds/gu511_hw/blob/master/hw03.answers.ipynb) under the section titled 'creating a \"useful\" bash script (linux beginners) ANSWERS', and is repeated verbatim here:\n",
    "\n",
    "```sh\n",
    "#!/usr/bin/bash\n",
    "# when this script is run, the line above tells the\n",
    "# command line what program to use to execute the\n",
    "# commands you provide below\n",
    "\n",
    "# the following line(s) creates the directory \n",
    "# ~/data/weather if needed\n",
    "mkdir -p ~/data/weather\n",
    "\n",
    "# the following line(s) downloads the current weather \n",
    "# and delay status for DCA into ~/data/weather\n",
    "curl --silent -o ~/data/weather/dca.weather.json https://soa.smext.faa.gov/asws/api/airport/status/DCA\n",
    "\n",
    "# the following line(s) write a log message to the\n",
    "# file ~/data/weather/download.log indicating the\n",
    "# status code of previous line and time of execution\n",
    "STATUS_CODE=$?\n",
    "echo \"$(date +'%Y-%m-%d %H:%M:%S')    gu511_download_A.sh    $STATUS_CODE\" >> ~/data/weather/download.log\n",
    "\n",
    "# exit with the most recent error code -- you can\n",
    "# leave this line alone\n",
    "exit $?\n",
    "```"
   ]
  },
  {
   "cell_type": "markdown",
   "metadata": {},
   "source": [
    "## 1.1: make the following changes to the script\n",
    "\n",
    "1. do not create any new directories at all (remove commands that do this)\n",
    "1. change the requested format of the `api` call to be `xml` (instead of `json`)\n",
    "    + do this by appending ` -H \"accept: application/xml\"` to the end of your `curl` command\n",
    "1. change the output file of the `curl` command to be `/tmp/dca.weather.[YOUR_GU_ID].xml`\n",
    "    + replace `[YOUR_GU_ID]` with your georgetown user id, e.g. `rzl15`\n",
    "1. change the log message to incorporate the new file name, and also include your GU id\n",
    "    + the new log file should be `\"$(date +'%Y-%m-%d %H:%M:%S')    [YOUR_GU_ID]    dca_weather_download.sh    $STATUS_CODE\"`\n",
    "1. change the log file path from `~/data/weather/download.log` to `/tmp/download.[YOUR_GU_ID].log`\n",
    "1. add a new block after the logging lines which will print the contents of the downloaded `xml` file to the screen\n",
    "1. leave the `exit $?` entry as is"
   ]
  },
  {
   "cell_type": "markdown",
   "metadata": {},
   "source": [
    "## 1.2: upload to *my* `ec2` server\n",
    "\n",
    "save the updated version with a *NEW* name (`dca_weather_download.sh`), and put this file on *MY* `ec2` server (ip address `3.223.216.195`):\n",
    "\n",
    "1. log in to my `ec2` server using `ssh`\n",
    "1. create a subdirectory named `exam` in your home directory\n",
    "1. set the permissions on this directory to be read / write / execute for your user and no permissions for group or global levels\n",
    "    + do this with the command `chmod 700 ~/exam/`\n",
    "1. using `scp` or a command line editor, copy the file `dca_weather_download.sh` into `~/exam/dca_weather_download.sh`\n",
    "1. set the permissions on that file to be read / execute for your user and no permissions for group or global levels\n",
    "    + do this with the command `chmod 500 ~/exam/dca_weather_download.sh`"
   ]
  },
  {
   "cell_type": "markdown",
   "metadata": {},
   "source": [
    "## 1.3: [optional] verify the behavior\n",
    "\n",
    "get that file onto **your** `ec2` server. if you edited it on your server, you're done; if you edited it on your local laptop, either copy the contents and paste it in `vim` running on your `ec2`, or use `scp` to move it from your laptop to your `ec2`\n",
    "\n",
    "once it is on your `ec2` server, connect to your `ec2` server and make your working directory be whatever directory contains your script.\n",
    "\n",
    "you should be able to execute the following commands in order and see a result like the ones described:\n",
    "\n",
    "| command | output / result |\n",
    "|-|-|\n",
    "| `pwd` | print working directory to screen |\n",
    "| `bash dca_weather_download.sh` | runs your script without error |\n",
    "| `pwd` | the exact same working directory as above |\n",
    "| `cat /tmp/dca.weather.[YOUR_GU_ID].xml` | an `xml` string is printed to the screen |\n",
    "| `cat /tmp/download.[YOUR_GU_ID].log` | a log message like `2020-09-20 16:52:11    dca_weather_download.sh    0` |\n",
    "\n",
    "\n",
    "copy this same file to *your* `ec2` server and run it via `bash dca_weather_download.sh`. if it is successful you should see\n",
    "\n",
    "1. a new `xml` file created in `/tmp` (overwritten every time)\n",
    "1. a new log line in the log file in `/tmp` (new line is appended every time)\n",
    "1. an `xml` string is printed to the screen"
   ]
  },
  {
   "cell_type": "markdown",
   "metadata": {},
   "source": [
    "# exercise 1: modify the DCA weather download script and upload via `scp` <span style=\"color:red;font-weight:bold\">ANSWERS</span>\n",
    "\n",
    "##### rough point breakdown: correct code behavior (15), successfully copying to `ec2` (5), correct permissions of folder and file (5)\n",
    "\n",
    "the body of the `dca_weather_download.sh` changes to:\n",
    "\n",
    "```sh\n",
    "#!/usr/bin/bash\n",
    "# when this script is run, the line above tells the\n",
    "# command line what program (binary) to use to\n",
    "# execute the commands\n",
    "\n",
    "# the following line(s) downloads the current weather \n",
    "# and delay status for DCA into ~/data/weather\n",
    "curl --silent -o /tmp/dca.weather.[YOUR_GU_ID].xml https://soa.smext.faa.gov/asws/api/airport/status/DCA -H \"accept: application/xml\"\n",
    "\n",
    "# the following line(s) write a log message to file \n",
    "# indicating status code of previous line \n",
    "STATUS_CODE=$?\n",
    "echo \"$(date +'%Y-%m-%d %H:%M:%S')    [YOUR_GU_ID]    gu511_download_A.sh    $STATUS_CODE\" >> /tmp/download.log\n",
    "\n",
    "# new block, printing the xml file to screen\n",
    "cat /tmp/dca.weather.[YOUR_GU_ID].xml\n",
    "\n",
    "# exit with the most recent error code -- you can\n",
    "# leave this line alone\n",
    "exit $?\n",
    "```\n",
    "\n",
    "on my `ec2`, create a directory with `mkdir -p ~/exam`. after this, you can `scp` with\n",
    "\n",
    "```sh\n",
    "scp dca_weather_download.sh [YOUR_GU_ID@3.223.216.195 or YOUR_SSH_CONFIG_ENTRY]:~/exam\n",
    "```"
   ]
  },
  {
   "cell_type": "markdown",
   "metadata": {},
   "source": [
    "<div style=\"border: 1px solid lightgrey;\">"
   ]
  },
  {
   "cell_type": "markdown",
   "metadata": {},
   "source": [
    "# exercise 2: update `tacoworld.py` to only run explicitly\n",
    "\n",
    "the [current version of `tacoworld.py`](https://github.com/RZachLamberty/tacoworld/blob/master/tacoworld.py) is breaking some of the cardinal rules I listed in class. in particular, it is \"doing something\" in the body of the code. currently the entire file reads:\n",
    "\n",
    "```py\n",
    "print(\"Today, actually, I (Zach Lamberty), want OTR!\")\n",
    "print(\"I, Eamon Lamberty, want tacos, so it's good there are enough to share!\")\n",
    "```\n",
    "\n",
    "update `tacoworld.py` so that I can **explicitly** (not implicitly) execute the code above in the following two ways:\n",
    "\n",
    "1. in an active `python` interpreter session, I run `import tacoworld` (and nothing happens!) and then I call `tacoworld.main()` (so we need a `main` function, it would seem) and the lines are printed.\n",
    "1. from a `bash` command line prompt, I run `python tacoworld.py` and the lines are printed\n",
    "\n",
    "\n",
    "##### attach your modified `tacoworld.py` to the submission email"
   ]
  },
  {
   "cell_type": "markdown",
   "metadata": {},
   "source": [
    "# exercise 2: update `tacoworld.py` to only run explicitly <span style=\"color:red;font-weight:bold\">ANSWERS</span>\n",
    "\n",
    "new body should be:\n",
    "\n",
    "```py\n",
    "def main():\n",
    "    print(\"Today, actually, I (Zach Lamberty), want OTR!\")\n",
    "    print(\"I, Eamon Lamberty, want tacos, so it's good there are enough to share!\")\n",
    "\n",
    "if __name__ == '__main__':\n",
    "    main()\n",
    "```"
   ]
  },
  {
   "cell_type": "markdown",
   "metadata": {},
   "source": [
    "<div style=\"border: 1px solid lightgrey;\">"
   ]
  },
  {
   "cell_type": "markdown",
   "metadata": {},
   "source": [
    "# exercise 3: refactor some `python` code\n",
    "\n",
    "imagine that I gave you a file named `csv2pkl.py` containing the following `python` code for converting a `csv` file `data.csv` into a `pkl` file `data.pkl`:\n",
    "\n",
    "```py\n",
    "import pickle\n",
    "\n",
    "def main(csv_path, pkl_path, headers=['x', 'y', 'z']):\n",
    "    # read a csv file\n",
    "    fobj_csv = open(csv_path, 'r')\n",
    "    \n",
    "    records = []\n",
    "    for line in fobj_csv:\n",
    "        records.append(\n",
    "            dict(zip(headers, line.strip().split(',')))\n",
    "        )\n",
    "    \n",
    "    fobj_csv.close()\n",
    "    \n",
    "    # save this as a pickle object\n",
    "    fobj_pkl = open(pkl_path, 'wb')\n",
    "    \n",
    "    pickle.dump(records, fobj_pkl)\n",
    "    \n",
    "    fobj_pkl.close()\n",
    "\n",
    "\n",
    "main('data.csv', 'data.pkl')\n",
    "```\n",
    "\n",
    "create a new file on your laptop named `csv2pkl.py` and copy the contents above into that file.\n",
    "\n",
    "now, edit and update this code to bring about the following changes:\n",
    "\n",
    "1. use the `with` statement for file objects\n",
    "1. stop using a mutable `list` for a default value\n",
    "1. replace `for` loops with [comprehensions](https://docs.python.org/3/tutorial/datastructures.html#list-comprehensions) wherever possible\n",
    "1. separate `import` and command-line invocations with a `__main__` block\n",
    "\n",
    "\n",
    "## 3.1: testing the behavior\n",
    "\n",
    "you may run the following commands to verify that your command is working as expected\n",
    "\n",
    "```sh\n",
    "curl --silent -o data.csv https://s3.amazonaws.com/shared.rzl.gu511.com/data.csv\n",
    "python csv2pkl.py\n",
    "curl --silent -o test_data.pkl https://s3.amazonaws.com/shared.rzl.gu511.com/test_data.pkl\n",
    "\n",
    "# if everything is correct, the following should produce no output:\n",
    "diff data.pkl test_data.pkl\n",
    "```\n",
    "\n",
    "##### attach your modified `csv2pkl.py` to the submission email"
   ]
  },
  {
   "cell_type": "markdown",
   "metadata": {},
   "source": [
    "# exercise 3: refactor some `python` code <span style=\"color:red;font-weight:bold\">ANSWERS</span>\n",
    "\n",
    "##### rough point breakdown: 5 each for read `with` statement, write `with` statement, and the list comprehension\n",
    "\n",
    "```py\n",
    "import pickle\n",
    "\n",
    "def main(csv_path, pkl_path, headers=None):\n",
    "    # default list\n",
    "    if headers is None:\n",
    "        headers = ['x', 'y', 'z']\n",
    "\n",
    "    # read a csv file\n",
    "    with open(csv_path, 'r') as fobj_csv:\n",
    "        records = [\n",
    "            dict(zip(headers, line.strip().split(',')))\n",
    "            for line in fobj_csv\n",
    "        ]\n",
    "    \n",
    "    # save this as a pickle object\n",
    "    with open(pkl_path, 'wb') as fobj_pkl:\n",
    "        pickle.dump(records, fobj_pkl)\n",
    "\n",
    "\n",
    "if __name__ == '__main__':\n",
    "    main('data.csv', 'data.pkl')\n",
    "```\n"
   ]
  },
  {
   "cell_type": "markdown",
   "metadata": {},
   "source": [
    "<div style=\"border: 1px solid lightgrey;\">"
   ]
  },
  {
   "cell_type": "markdown",
   "metadata": {},
   "source": [
    "# exercise 4: write a function that can take an arbitrary number of arguments\n",
    "\n",
    "create a function `why_would_i_ever_do_this` which can take an arbitrary number of positional and keyword arguments and do the following\n",
    "\n",
    "1. calculate `part_1`: the result of adding all the positional arguments together\n",
    "1. calculate `part_2`: the result of multiplying all the keyword arguments together\n",
    "    + if no keyword arguments are passed, let `part_2 = 1`\n",
    "1. subtract the result of (1) from (2) (i.e. `part_2 - part_1`) and return that value\n",
    "\n",
    "a correct function should pass the following tests (that is, running these lines after defining `why_would_i_ever_do_this` should not raise any `AssertionError`s):\n",
    "\n",
    "```python\n",
    "assert why_would_i_ever_do_this() == 1\n",
    "assert why_would_i_ever_do_this(1, 2, 3) == -5\n",
    "assert why_would_i_ever_do_this(a=1, b=2, c=3) == 6\n",
    "assert why_would_i_ever_do_this(1, x=2, y=3) == 5\n",
    "assert why_would_i_ever_do_this(1, 2, r=3) == 0\n",
    "assert why_would_i_ever_do_this(0, a=3) == 3\n",
    "```\n",
    "\n",
    "save this function in a file `argskwargs.py`\n",
    "\n",
    "##### attach the file `argskwargs.py` to the submission email"
   ]
  },
  {
   "cell_type": "markdown",
   "metadata": {},
   "source": [
    "# exercise 4: write a function that can take arbitrary arguments <span style=\"color:red;font-weight:bold\">ANSWERS</span>"
   ]
  },
  {
   "cell_type": "code",
   "execution_count": null,
   "metadata": {},
   "outputs": [],
   "source": [
    "def why_would_i_ever_do_this(*args, **kwargs):\n",
    "    part_1 = sum(args)\n",
    "    part_2 = 1\n",
    "    for (kw, kwarg) in kwargs.items():\n",
    "        part_2 *= kwarg\n",
    "    return part_2 - part_1   \n",
    "\n",
    "assert why_would_i_ever_do_this() == 1\n",
    "assert why_would_i_ever_do_this(1, 2, 3) == -5\n",
    "assert why_would_i_ever_do_this(a=1, b=2, c=3) == 6\n",
    "assert why_would_i_ever_do_this(1, x=2, y=3) == 5\n",
    "assert why_would_i_ever_do_this(1, 2, r=3) == 0\n",
    "assert why_would_i_ever_do_this(0, a=3) == 3"
   ]
  },
  {
   "cell_type": "markdown",
   "metadata": {},
   "source": [
    "<div style=\"border: 1px solid lightgrey;\">"
   ]
  },
  {
   "cell_type": "markdown",
   "metadata": {},
   "source": [
    "# exercise 5: creating a `conda` environment and an `environment.yml` file\n",
    "\n",
    "first, read [the documentation on creating and managing conda environments](https://conda.io/docs/user-guide/tasks/manage-environments.html).\n",
    "\n",
    "once you've done that, **on your `ec2` instance** create a conda environment named `gu511` with `python` version 3.7. install into that `gu511` environment (not your `base` environment) the following packages:\n",
    "\n",
    "+ `pandas=1.1.3`\n",
    "+ `plotly=4.11.0`\n",
    "+ `scikit-learn=0.23.2`\n",
    "\n",
    "use the [environment sharing `export` command](https://conda.io/docs/user-guide/tasks/manage-environments.html#sharing-an-environment) to create an `environment.yml` file.\n",
    "\n",
    "##### submit this `environment.yml` file as an attachment on your submission email"
   ]
  },
  {
   "cell_type": "markdown",
   "metadata": {},
   "source": [
    "# exercise 5: creating a `conda` environment and an `environment.yml` file <span style=\"color:red;font-weight:bold\">ANSWERS</span>\n",
    "\n",
    "the order of operations is\n",
    "\n",
    "```sh\n",
    "conda create -y -n gu511 python=3.7\n",
    "conda activate gu511\n",
    "conda install -y pandas=1.1.3 plotly=4.11.0 scikit-learn=0.23.2\n",
    "conda env export > environment.yml\n",
    "```\n",
    "\n",
    "aside from some possible differences in the versions output, the file itself should read like\n",
    "\n",
    "```yaml\n",
    "name: gu511\n",
    "channels:\n",
    "  - defaults\n",
    "dependencies:\n",
    "  - _libgcc_mutex=0.1=main\n",
    "  - blas=1.0=mkl\n",
    "  - ca-certificates=2020.7.22=0\n",
    "  - certifi=2020.6.20=py37_0\n",
    "  - intel-openmp=2020.2=254\n",
    "  - joblib=0.17.0=py_0\n",
    "  - ld_impl_linux-64=2.33.1=h53a641e_7\n",
    "  - libedit=3.1.20191231=h14c3975_1\n",
    "  - libffi=3.3=he6710b0_2\n",
    "  - libgcc-ng=9.1.0=hdf63c60_0\n",
    "  - libgfortran-ng=7.3.0=hdf63c60_0\n",
    "  - libstdcxx-ng=9.1.0=hdf63c60_0\n",
    "  - mkl=2020.2=256\n",
    "  - mkl-service=2.3.0=py37he904b0f_0\n",
    "  - mkl_fft=1.2.0=py37h23d657b_0\n",
    "  - mkl_random=1.1.1=py37h0573a6f_0\n",
    "  - ncurses=6.2=he6710b0_1\n",
    "  - numpy=1.19.1=py37hbc911f0_0\n",
    "  - numpy-base=1.19.1=py37hfa32c7d_0\n",
    "  - openssl=1.1.1h=h7b6447c_0\n",
    "  - pandas=1.1.3=py37he6710b0_0\n",
    "  - pip=20.2.3=py37_0\n",
    "  - plotly=4.11.0=py_0\n",
    "  - python=3.7.9=h7579374_0\n",
    "  - python-dateutil=2.8.1=py_0\n",
    "  - pytz=2020.1=py_0\n",
    "  - readline=8.0=h7b6447c_0\n",
    "  - retrying=1.3.3=py37_2\n",
    "  - scikit-learn=0.23.2=py37h0573a6f_0\n",
    "  - scipy=1.5.2=py37h0b6359f_0\n",
    "  - setuptools=50.3.0=py37hb0f4dca_1\n",
    "  - six=1.15.0=py_0\n",
    "  - sqlite=3.33.0=h62c20be_0\n",
    "  - threadpoolctl=2.1.0=pyh5ca1d4c_0\n",
    "  - tk=8.6.10=hbc83047_0\n",
    "  - wheel=0.35.1=py_0\n",
    "  - xz=5.2.5=h7b6447c_0\n",
    "  - zlib=1.2.11=h7b6447c_3\n",
    "prefix: /home/ubuntu/miniconda3/envs/gu511\n",
    "```\n",
    "\n",
    "to test it, we could simply use that file to create an environment, and verify the following commands run successfully:\n",
    "\n",
    "```python\n",
    "import pandas\n",
    "import plotly\n",
    "import sklearn\n",
    "\n",
    "assert pandas.__version__ == '1.1.3'\n",
    "assert plotly.__version__ == '4.11.0'\n",
    "assert sklearn.__version__ == '0.23.2'\n",
    "```"
   ]
  },
  {
   "cell_type": "markdown",
   "metadata": {},
   "source": [
    "<div style=\"border: 1px solid lightgrey;\">"
   ]
  },
  {
   "cell_type": "markdown",
   "metadata": {},
   "source": [
    "# exercise 6: build a `conda` environment capable of running my code\n",
    "\n",
    "you and I are working on a collaborative project and I have [shared it with you on `github`](https://github.com/rzl-ds/gu511_magic_numbers). use `git clone` to download that code **to your `aws` `ec2` instance (not your laptop)**. \n",
    "\n",
    "using the `spec-file.txt` file, the `conda` command, and [the `conda` docs](https://docs.conda.io/projects/conda/en/latest/user-guide/tasks/manage-environments.html#building-identical-conda-environments), create a `conda` environment capable of running this code via\n",
    "\n",
    "```sh\n",
    "python magic_numbers.py -g [YOUR_GU_ID_HERE]\n",
    "```\n",
    "\n",
    "for example, I can run\n",
    "\n",
    "```sh\n",
    "python magic_numbers.py -g rzl5\n",
    "```\n",
    "\n",
    "and the output is\n",
    "\n",
    "```\n",
    "2020-10-08 23:47:48,300 INFO     [magic_numbers.parse_args:74] arguments set to {'guid': 'rzl5'}\n",
    "2020-10-08 23:47:48,301 INFO     [magic_numbers.calc_magic_number:58] 3926541758\n",
    "2020-10-08 23:47:48,301 INFO     [magic_numbers.calc_magic_number:61] [0.3364237  0.71748239 0.18006277 0.75415224 0.01427602 0.14873502\n",
    " 0.23054043 0.26699999 0.89718944 0.22594329 0.6037123  0.23196877\n",
    " 0.41420435 0.84972933 0.71517769 0.94706074 0.48875063 0.22582051\n",
    " 0.07911899 0.90751111]\n",
    "0.46174298561062466\n",
    "```\n",
    "\n",
    "build your `conda` environment, run the code with your GU id, and send us the output\n",
    "\n",
    "##### include the 8-or-so lines of output from running the `magic_numbers.py` in the body of the submission email"
   ]
  },
  {
   "cell_type": "markdown",
   "metadata": {},
   "source": [
    "# exercise 6: build a `conda` environment capable of running my code <span style=\"color:red;font-weight:bold\">ANSWERS</span>\n",
    "\n",
    "```sh\n",
    "git clone git@github.com:rzl-ds/gu511_magic_numbers.git\n",
    "cd gu511_magic_numbers\n",
    "conda create --name gu511_magic_numbers --file spec-file.txt\n",
    "conda activate gu511_magic_numbers\n",
    "python magic_numbers.py -g [YOUR_GU_ID_HERE]\n",
    "```"
   ]
  },
  {
   "cell_type": "markdown",
   "metadata": {},
   "source": [
    "<div style=\"border: 1px solid lightgrey;\">"
   ]
  },
  {
   "cell_type": "markdown",
   "metadata": {},
   "source": [
    "# exercise 7: stop writing `sudo docker` all the time\n",
    "\n",
    "follow the instructions [here](https://docs.docker.com/engine/install/linux-postinstall/) on how to set up your `ec2` instance such that you do not need to write `sudo docker` for all commands, and you can start writing simply `docker`.\n",
    "\n",
    "the basic summary of those commands is:\n",
    "\n",
    "```sh\n",
    "sudo groupadd docker\n",
    "# the previous line may give the error \"groupadd: group 'docker' already exists\"\n",
    "# that is ok!\n",
    "sudo usermod -aG docker $USER\n",
    "```\n",
    "\n",
    "log out and then back in to your `ec2` server, and then try\n",
    "\n",
    "```sh\n",
    "# no more sudo\n",
    "docker run hello-world\n",
    "```\n",
    "\n",
    "if you receive an error message, please reach out to us.\n",
    "\n",
    "##### there is nothing to submit here"
   ]
  },
  {
   "cell_type": "markdown",
   "metadata": {},
   "source": [
    "# exercise 7: stop writing `sudo docker` all the time <span style=\"color:red;font-weight:bold\">ANSWERS</span>\n",
    "\n",
    "just a walkthrough, no answers"
   ]
  },
  {
   "cell_type": "markdown",
   "metadata": {},
   "source": [
    "<div style=\"border: 1px solid lightgrey;\">"
   ]
  },
  {
   "cell_type": "markdown",
   "metadata": {},
   "source": [
    "# exercise 8: create a `Dockerfile`\n",
    "\n",
    "let's creat a `Dockerfile` which can build a working `image` for the airport weather script we created several homeworks ago. I have posted that script as well as the skeleton of a `Dockerfile` [as a `github` repo](https://github.com/rzl-ds/airport_weather_docker). use `git clone` to download that repository to *any computer that has `docker` on it*.\n",
    "\n",
    "throughout the `Dockerfile` skeleton there are sections that read\n",
    "\n",
    "```\n",
    "# --------------- #\n",
    "# FILL ME IN !!!! #\n",
    "# --------------- #\n",
    "```\n",
    "\n",
    "please do that, and save the results! I have not used any `docker` command (the first, all-caps words on each line) which we did not already use in our class example.\n",
    "\n",
    "the end result of properly filling in that `Dockerfile` skeleton is that you should be able to run the following commands from within the directory your `git clone` statement just created:\n",
    "\n",
    "```sh\n",
    "docker build -t airport_weather:v0.0.1 .\n",
    "docker run --rm airport_weather:v0.0.1\n",
    "```\n",
    "\n",
    "*note: if you get an error message like `docker: Got permission denied while trying to connect to...`, you need to complete the \"stop writing `sudo docker` all the time\" exercise, or prepend the command with `sudo `.*\n",
    "\n",
    "\n",
    "those two commands above should build an image, and then build a container which prints a log message and a `json` (or possibly `xml` error) file to your screen. the output should look roughly like the following:\n",
    "\n",
    "```\n",
    "2020-10-09 00:43:34    l33t    gu511_download.sh    0\n",
    "{\"Name\":\"Ronald Reagan Washington National\",\"City\":\"Washington\",\"State\":\"DC\",\"ICAO\":\"KDCA\",\"IATA\":\"DCA\",\"SupportedAirport\":true,\"Delay\":false,\"DelayCount\":0,\"Status\":[{\"Reason\":\"No known delays for this airport\"}],\"Weather\":{\"Weather\":[{\"Temp\":[\"Fair\"]}],\"Visibility\":[10.00],\"Meta\":[{\"Credit\":\"NOAA's National Weather Service\",\"Url\":\"http://weather.gov/\",\"Updated\":\"Last Updated on Oct 8 2020, 7:52 pm EDT\"}],\"Temp\":[\"62.0 F (16.7 C)\"],\"Wind\":[\"North at 6.9\"]}}\n",
    "```\n",
    "\n",
    "##### attach the completed `Dockerfile` to your submission email"
   ]
  },
  {
   "cell_type": "markdown",
   "metadata": {},
   "source": [
    "# exercise 8: create a `Dockerfile` <span style=\"color:red;font-weight:bold\">ANSWERS</span>\n",
    "\n",
    "the expected `Dockerfile` is:\n",
    "\n",
    "```Dockerfile\n",
    "# set your parent image to be from the `ubuntu` repository and with the\n",
    "# `20.04` tag\n",
    "FROM ubuntu:20.04\n",
    "\n",
    "# copy the contents of the current directory into the root directory (/)\n",
    "COPY . /\n",
    "\n",
    "# use `apt-get update` to update the index of packages in your docker container\n",
    "RUN apt-get update\n",
    "\n",
    "# use `apt-get` to install the `curl` and `ca-certificates` packages. you need\n",
    "# to use the -y flag to automatically answer \"yes\" to all apt-get's questions\n",
    "RUN apt-get install -y curl ca-certificates\n",
    "\n",
    "# define an environment variable `MYVAR` with default value `l33t`\n",
    "ENV MYVAR l33t\n",
    "\n",
    "# set the default launch command to invoke our shell script using `bash`\n",
    "# that is, `bash gu511_download.sh`. remember that `docker` won't know what to\n",
    "# do with that full command with a space in it...\n",
    "CMD [\"bash\", \"gu511_download.sh\"]\n",
    "```"
   ]
  },
  {
   "cell_type": "markdown",
   "metadata": {},
   "source": [
    "<div style=\"border: 1px solid lightgrey;\">"
   ]
  },
  {
   "cell_type": "markdown",
   "metadata": {},
   "source": [
    "# exercise 9: push your `airport_weather:v0.0.1` image to `dockerhub`\n",
    "\n",
    "1. create an account on `dockerhub`\n",
    "    + head over to [the `dockerhub` home page](https://hub.docker.com/) and create a new account. you will need to type this for all of your `dockerhub` repos, so choose something you don't mind typing many, many times.\n",
    "1. on `dockerhub`, create a new repository\n",
    "    + there may be a big blue button for doing this on your current page, but on any `dockerhub` page you can select \"Repositories\" from the top menu bar and then the \"Create Repository +\" button on that page\n",
    "1. set the `name` of the new repository to be `airport_weather` and leave it public\n",
    "1. back on your `ec2` instance, run `docker login` and use the credentials for your `dockerhub` account\n",
    "1. in order to push, you need to add a new `tag` to your image\n",
    "    + run `docker tag airport_weather:v0.0.1 [YOUR DOCKER ID]/airport_weather:v0.0.1` (replace `[YOUR DOCKER ID]` with your `docker` id, of course)\n",
    "1. `push` your image with `docker push [YOUR DOCKER ID]/airport_weather:v0.0.1`.\n",
    "\n",
    "if the last step (`docker push`) is successful, you will see something like\n",
    "\n",
    "```\n",
    "The push refers to repository [docker.io/rzachlamberty/airport_weather]\n",
    "6688e3d8c840: Pushed \n",
    "a183ea12b90a: Pushed \n",
    "51394a7344b4: Pushed \n",
    "782f5f011dda: Mounted from library/ubuntu \n",
    "90ac32a0d9ab: Mounted from library/ubuntu \n",
    "d42a4fdf4b2a: Mounted from library/ubuntu \n",
    "v0.0.1: digest: sha256:e6ef08d70c1bea8178b1a66f0367958451f51e091246078e4157c512aaec69b1 size: 1575\n",
    "```\n",
    "\n",
    "(you may also see any of the above `Mounted from ...` statements replaced with `Pushed`)\n",
    "\n",
    "after `push`ing, you will have a new `tag` entry on your `dockerhub` page for that repository.\n",
    "\n",
    "send us the link to your dockerhub repo. for example, mine would be `https://hub.docker.com/repository/docker/rzachlamberty/airport_weather`\n",
    "\n",
    "##### email us the link to your dockerhub repo"
   ]
  },
  {
   "cell_type": "markdown",
   "metadata": {},
   "source": [
    "# exercise 9: push your `airport_weather:v0.0.1` image to `dockerhub` <span style=\"color:red;font-weight:bold\">ANSWERS</span>\n",
    "\n",
    "follow the steps above"
   ]
  },
  {
   "cell_type": "markdown",
   "metadata": {},
   "source": [
    "<div style=\"border: 1px solid lightgrey;\">"
   ]
  },
  {
   "cell_type": "markdown",
   "metadata": {},
   "source": [
    "# exercise 10: `pull` down the new file I've added\n",
    "\n",
    "<span style=\"color:red;font-weight:bold\">NOTE: you need to complete exercises 10 - 12 in order</span>\n",
    "\n",
    "you trusted me, and I have rewarded that trust with a precious new file on our shared `github` repository. use `git pull` to sync up your *local* `gu511_git_hw` repository with the updated *global* one.\n",
    "\n",
    "##### there is nothing to submit here"
   ]
  },
  {
   "cell_type": "markdown",
   "metadata": {},
   "source": [
    "# exercise 10: `pull` down the new file I've added <span style=\"color:red;font-weight:bold\">ANSWERS</span>\n",
    "\n",
    "```sh\n",
    "git pull origin master\n",
    "```"
   ]
  },
  {
   "cell_type": "markdown",
   "metadata": {},
   "source": [
    "<div style=\"border: 1px solid lightgrey;\">"
   ]
  },
  {
   "cell_type": "markdown",
   "metadata": {},
   "source": [
    "# exercise 11: update the `README` to include a description of the new `rzl.py` file and `push`\n",
    "\n",
    "<span style=\"color:red;font-weight:bold\">NOTE: you need to complete exercises 10 - 12 in order</span>\n",
    "\n",
    "you recognize that I, in my power-drunk state, forgot to update the `README.md` file to let people know what is happening in our shared code repo (*tsk tsk, me*!). you will do me a solid and add that for me.\n",
    "\n",
    "update the `README.md` such that it reads:\n",
    "\n",
    "```\n",
    "# 511 github repo\n",
    "\n",
    "the primary function of this repo is to develop `git` skills over the course of the year.\n",
    "\n",
    "## repository contents\n",
    "\n",
    "+ `helloworld.py`\n",
    "    + run with `python helloworld.py`\n",
    "    + this will greet you and then tell you the current time\n",
    "+ `rzl.py`\n",
    "    + run with `python rzl.py`\n",
    "    + this will offer you the ramblings of a teacher who thinks he is funnier than he is\n",
    "```\n",
    "\n",
    "to avoid artificial conflicts, it is best to literally copy and paste the text above into your `README.md` file.\n",
    "\n",
    "`commit` this change with the message `README: adding details on the usage and purpose of rzl.py` and `push` it up to `github`\n",
    "\n",
    "##### nothing to submit here"
   ]
  },
  {
   "cell_type": "markdown",
   "metadata": {},
   "source": [
    "# exercise 11: update the `README` to include a description of the new `rzl.py` file and `push` <span style=\"color:red;font-weight:bold\">ANSWERS</span>\n",
    "\n",
    "after editing:\n",
    "\n",
    "```sh\n",
    "git add -p README.md\n",
    "git commit -m 'README: adding details on the usage and purpose of rzl.py'\n",
    "git push origin master\n",
    "```"
   ]
  },
  {
   "cell_type": "markdown",
   "metadata": {},
   "source": [
    "<div style=\"border: 1px solid lightgrey;\">"
   ]
  },
  {
   "cell_type": "markdown",
   "metadata": {},
   "source": [
    "# exercise 12: create a `.gitignore` file and `push`\n",
    "\n",
    "<span style=\"color:red;font-weight:bold\">NOTE: you need to complete exercises 10 - 12 in order</span>\n",
    "\n",
    "by default, every file that `git` sees in your directory is assumed to be one that `git` *MIGHT* want to track. this can get annoying on projects as non-tracked files (e.g. `.csv`s, `__pycache__` directories, `.DS_Store` directories on mac) start to clutter up our otherwise empty directories.\n",
    "\n",
    "`git` handles this by looking for a file in your repository directory called `.gitignore` and which contains a list of things that should be ignored. if `git` sees a different file or sub-directory within your local directory that looks like one of the strings (with wild cards) in that `.gitignore` file, it will intentionally ignore that file going forward. if you want to track a file like that, you have to *force* `git` to do so (so it's not irreversable).\n",
    "\n",
    "`github` has [suggestions for `.gitignore` files by project type / programming language](https://github.com/github/gitignore). let's add the contents of the extremely extensive [`python` `.gitignore` file](https://github.com/github/gitignore/blob/master/Python.gitignore) to our project."
   ]
  },
  {
   "cell_type": "markdown",
   "metadata": {},
   "source": [
    "## 12.1: create `.gitignore`\n",
    "\n",
    "in a text editor, create a `.gitignore` file and fill it with the contents in the `github`-suggested `python` `.gitignore` file. a raw text version of that file is available to copy-paste [here](https://github.com/github/gitignore/raw/master/Python.gitignore)"
   ]
  },
  {
   "cell_type": "markdown",
   "metadata": {},
   "source": [
    "## 12.2: `add`, `commit`, and `push` to `gu511_git_hw`\n",
    "\n",
    "create a `commit` with the message `gitignore: adding python ignorables`. `push` that to `github`"
   ]
  },
  {
   "cell_type": "markdown",
   "metadata": {},
   "source": [
    "# exercise 12: create a `.gitignore` file and `push` <span style=\"color:red;font-weight:bold\">ANSWERS</span>\n",
    "\n",
    "after editing:\n",
    "\n",
    "```sh\n",
    "git add .gitignore\n",
    "git commit -m 'gitignore: adding python ignorables'\n",
    "git push origin master\n",
    "```"
   ]
  },
  {
   "cell_type": "markdown",
   "metadata": {},
   "source": [
    "<div style=\"border: 1px solid lightgrey;\">"
   ]
  }
 ],
 "metadata": {
  "kernelspec": {
   "display_name": "Python 3",
   "language": "python",
   "name": "python3"
  },
  "language_info": {
   "codemirror_mode": {
    "name": "ipython",
    "version": 3
   },
   "file_extension": ".py",
   "mimetype": "text/x-python",
   "name": "python",
   "nbconvert_exporter": "python",
   "pygments_lexer": "ipython3",
   "version": "3.7.3"
  },
  "toc": {
   "base_numbering": 1,
   "nav_menu": {},
   "number_sections": true,
   "sideBar": true,
   "skip_h1_title": false,
   "title_cell": "Table of Contents",
   "title_sidebar": "Contents",
   "toc_cell": false,
   "toc_position": {
    "height": "calc(100% - 180px)",
    "left": "10px",
    "top": "150px",
    "width": "232.727px"
   },
   "toc_section_display": true,
   "toc_window_display": false
  }
 },
 "nbformat": 4,
 "nbformat_minor": 2
}
